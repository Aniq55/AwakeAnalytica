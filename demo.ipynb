{
 "cells": [
  {
   "cell_type": "code",
   "execution_count": 15,
   "metadata": {},
   "outputs": [],
   "source": [
    "from analytica.access_data import *"
   ]
  },
  {
   "cell_type": "code",
   "execution_count": 16,
   "metadata": {},
   "outputs": [],
   "source": [
    "from analytica.utils import *"
   ]
  },
  {
   "cell_type": "markdown",
   "metadata": {},
   "source": [
    "Setup the database:"
   ]
  },
  {
   "cell_type": "code",
   "execution_count": 17,
   "metadata": {},
   "outputs": [],
   "source": [
    "setup_database()"
   ]
  },
  {
   "cell_type": "markdown",
   "metadata": {},
   "source": [
    "Create an object to access data to and from the database as well as hdf files:"
   ]
  },
  {
   "cell_type": "code",
   "execution_count": 18,
   "metadata": {},
   "outputs": [],
   "source": [
    "adata= Access_data()"
   ]
  },
  {
   "cell_type": "markdown",
   "metadata": {},
   "source": [
    "Search for data containing the keyword 'streakImage' between the dates: 2018-11-10 to 2018-11-13 :"
   ]
  },
  {
   "cell_type": "code",
   "execution_count": 19,
   "metadata": {
    "scrolled": false
   },
   "outputs": [
    {
     "name": "stdout",
     "output_type": "stream",
     "text": [
      "T_1541962108935000000_167_838\n",
      "--------------------------------\n",
      "AwakeEventData/TT41.BTV.412350.STREAK/StreakImage\n",
      "AwakeEventData/XMPP-STREAK/StreakImage\n",
      "AwakeEventData/XMPP-STREAK/StreakImage/streakImageBinning\n",
      "AwakeEventData/XMPP-STREAK/StreakImage/streakImageData\n",
      "AwakeEventData/XMPP-STREAK/StreakImage/streakImageExposureTime\n",
      "AwakeEventData/XMPP-STREAK/StreakImage/streakImageHeight\n",
      "AwakeEventData/XMPP-STREAK/StreakImage/streakImageInfo\n",
      "AwakeEventData/XMPP-STREAK/StreakImage/streakImageMcpGain\n",
      "AwakeEventData/XMPP-STREAK/StreakImage/streakImageMode\n",
      "AwakeEventData/XMPP-STREAK/StreakImage/streakImageProjection\n",
      "AwakeEventData/XMPP-STREAK/StreakImage/streakImageTime\n",
      "AwakeEventData/XMPP-STREAK/StreakImage/streakImageTimeRange\n",
      "AwakeEventData/XMPP-STREAK/StreakImage/streakImageTimeValues\n",
      "AwakeEventData/XMPP-STREAK/StreakImage/streakImageTrigLevel\n",
      "AwakeEventData/XMPP-STREAK/StreakImage/streakImageWidth\n",
      "================================\n"
     ]
    }
   ],
   "source": [
    "adata.find(keyword='streakImage', start_date=\"2018-11-10\", end_date=\"2018-11-13\")"
   ]
  },
  {
   "cell_type": "markdown",
   "metadata": {},
   "source": [
    "Load data:"
   ]
  },
  {
   "cell_type": "code",
   "execution_count": 20,
   "metadata": {},
   "outputs": [],
   "source": [
    "x= adata.load(table='T_1541962108935000000_167_838', data_name='AwakeEventData/XMPP-STREAK/StreakImage/streakImageData')"
   ]
  },
  {
   "cell_type": "code",
   "execution_count": 21,
   "metadata": {
    "scrolled": true
   },
   "outputs": [
    {
     "name": "stdout",
     "output_type": "stream",
     "text": [
      "<HDF5 dataset \"streakImageData\": shape (344064,), type \"<i4\">\n"
     ]
    }
   ],
   "source": [
    "print(x)"
   ]
  }
 ],
 "metadata": {
  "kernelspec": {
   "display_name": "Python 3",
   "language": "python",
   "name": "python3"
  },
  "language_info": {
   "codemirror_mode": {
    "name": "ipython",
    "version": 3
   },
   "file_extension": ".py",
   "mimetype": "text/x-python",
   "name": "python",
   "nbconvert_exporter": "python",
   "pygments_lexer": "ipython3",
   "version": "3.5.2"
  }
 },
 "nbformat": 4,
 "nbformat_minor": 2
}
